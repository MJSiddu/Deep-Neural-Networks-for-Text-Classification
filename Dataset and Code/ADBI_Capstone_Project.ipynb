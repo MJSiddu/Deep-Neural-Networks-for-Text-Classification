{
 "cells": [
  {
   "cell_type": "markdown",
   "metadata": {
    "colab_type": "text",
    "id": "c8Bi8O_ORtXl"
   },
   "source": [
    "# **Imports**"
   ]
  },
  {
   "cell_type": "code",
   "execution_count": 1,
   "metadata": {
    "colab": {},
    "colab_type": "code",
    "id": "ynYwUFfKQ4Ae"
   },
   "outputs": [],
   "source": [
    "import collections\n",
    "import nltk\n",
    "import pandas as pd \n",
    "import numpy as np"
   ]
  },
  {
   "cell_type": "markdown",
   "metadata": {
    "colab_type": "text",
    "id": "0DXzYIQyRwn6"
   },
   "source": [
    "# **Reading Data from JSON**"
   ]
  },
  {
   "cell_type": "code",
   "execution_count": 2,
   "metadata": {
    "colab": {},
    "colab_type": "code",
    "id": "1NIPPGTDRSYm"
   },
   "outputs": [],
   "source": [
    "dataFile = 'News_Category_Dataset.csv'\n",
    "dataDf = pd.read_csv(dataFile)"
   ]
  },
  {
   "cell_type": "code",
   "execution_count": 3,
   "metadata": {
    "colab": {
     "base_uri": "https://localhost:8080/",
     "height": 198
    },
    "colab_type": "code",
    "id": "ljyl488vZ9lx",
    "outputId": "3e74dd45-87cf-44b4-9321-2c8c5844aaf0"
   },
   "outputs": [
    {
     "data": {
      "text/html": [
       "<div>\n",
       "<style scoped>\n",
       "    .dataframe tbody tr th:only-of-type {\n",
       "        vertical-align: middle;\n",
       "    }\n",
       "\n",
       "    .dataframe tbody tr th {\n",
       "        vertical-align: top;\n",
       "    }\n",
       "\n",
       "    .dataframe thead th {\n",
       "        text-align: right;\n",
       "    }\n",
       "</style>\n",
       "<table border=\"1\" class=\"dataframe\">\n",
       "  <thead>\n",
       "    <tr style=\"text-align: right;\">\n",
       "      <th></th>\n",
       "      <th>Unnamed: 0</th>\n",
       "      <th>news</th>\n",
       "      <th>category</th>\n",
       "    </tr>\n",
       "  </thead>\n",
       "  <tbody>\n",
       "    <tr>\n",
       "      <th>0</th>\n",
       "      <td>0</td>\n",
       "      <td>There Were 2 Mass Shootings In Texas Last Week...</td>\n",
       "      <td>CRIME</td>\n",
       "    </tr>\n",
       "    <tr>\n",
       "      <th>1</th>\n",
       "      <td>1</td>\n",
       "      <td>Will Smith Joins Diplo And Nicky Jam For The 2...</td>\n",
       "      <td>ENTERTAINMENT</td>\n",
       "    </tr>\n",
       "    <tr>\n",
       "      <th>2</th>\n",
       "      <td>2</td>\n",
       "      <td>Hugh Grant Marries For The First Time At Age 5...</td>\n",
       "      <td>ENTERTAINMENT</td>\n",
       "    </tr>\n",
       "    <tr>\n",
       "      <th>3</th>\n",
       "      <td>3</td>\n",
       "      <td>Jim Carrey Blasts 'Castrato' Adam Schiff And D...</td>\n",
       "      <td>ENTERTAINMENT</td>\n",
       "    </tr>\n",
       "    <tr>\n",
       "      <th>4</th>\n",
       "      <td>4</td>\n",
       "      <td>Julianna Margulies Uses Donald Trump Poop Bags...</td>\n",
       "      <td>ENTERTAINMENT</td>\n",
       "    </tr>\n",
       "  </tbody>\n",
       "</table>\n",
       "</div>"
      ],
      "text/plain": [
       "   Unnamed: 0                                               news  \\\n",
       "0           0  There Were 2 Mass Shootings In Texas Last Week...   \n",
       "1           1  Will Smith Joins Diplo And Nicky Jam For The 2...   \n",
       "2           2  Hugh Grant Marries For The First Time At Age 5...   \n",
       "3           3  Jim Carrey Blasts 'Castrato' Adam Schiff And D...   \n",
       "4           4  Julianna Margulies Uses Donald Trump Poop Bags...   \n",
       "\n",
       "        category  \n",
       "0          CRIME  \n",
       "1  ENTERTAINMENT  \n",
       "2  ENTERTAINMENT  \n",
       "3  ENTERTAINMENT  \n",
       "4  ENTERTAINMENT  "
      ]
     },
     "execution_count": 3,
     "metadata": {},
     "output_type": "execute_result"
    }
   ],
   "source": [
    "dataDf.head()"
   ]
  },
  {
   "cell_type": "markdown",
   "metadata": {
    "colab_type": "text",
    "id": "WeQRrkVvS-T9"
   },
   "source": [
    "# **Processing Text**"
   ]
  },
  {
   "cell_type": "code",
   "execution_count": 4,
   "metadata": {
    "colab": {},
    "colab_type": "code",
    "id": "D7pwVwV8abW1"
   },
   "outputs": [
    {
     "name": "stderr",
     "output_type": "stream",
     "text": [
      "Using TensorFlow backend.\n"
     ]
    }
   ],
   "source": [
    "from keras.preprocessing.text import Tokenizer\n",
    "from keras.preprocessing.sequence import pad_sequences"
   ]
  },
  {
   "cell_type": "code",
   "execution_count": 5,
   "metadata": {
    "colab": {},
    "colab_type": "code",
    "id": "iwwZyaEea8VE"
   },
   "outputs": [],
   "source": [
    "newsTexts = dataDf[\"news\"].tolist()\n",
    "newsLabels = dataDf[\"category\"].tolist()"
   ]
  },
  {
   "cell_type": "code",
   "execution_count": 6,
   "metadata": {
    "colab": {},
    "colab_type": "code",
    "id": "pkDvsYM1TLWz"
   },
   "outputs": [],
   "source": [
    "tokenObj = Tokenizer()\n",
    "tokenObj.fit_on_texts(newsTexts)\n",
    "sequences = tokenObj.texts_to_sequences(newsTexts)"
   ]
  },
  {
   "cell_type": "code",
   "execution_count": 7,
   "metadata": {
    "colab": {
     "base_uri": "https://localhost:8080/",
     "height": 35
    },
    "colab_type": "code",
    "id": "rmdJAjOpbVTJ",
    "outputId": "c97b0214-9d93-456d-d6fc-4f6db22e5162"
   },
   "outputs": [
    {
     "name": "stdout",
     "output_type": "stream",
     "text": [
      "Number of Unique Words are:  114404\n"
     ]
    }
   ],
   "source": [
    "word_index = tokenObj.word_index\n",
    "print(\"Number of Unique Words are: \", len(word_index))"
   ]
  },
  {
   "cell_type": "code",
   "execution_count": 8,
   "metadata": {
    "colab": {
     "base_uri": "https://localhost:8080/",
     "height": 35
    },
    "colab_type": "code",
    "id": "NFmeVsf1TOzk",
    "outputId": "ddaa9e76-a224-470b-acd4-4e00daf8312e"
   },
   "outputs": [
    {
     "data": {
      "text/plain": [
       "29"
      ]
     },
     "execution_count": 8,
     "metadata": {},
     "output_type": "execute_result"
    }
   ],
   "source": [
    "maxLengthOfTexts = int(sum(map(len, sequences))/len(sequences))\n",
    "maxLengthOfTexts"
   ]
  },
  {
   "cell_type": "code",
   "execution_count": 9,
   "metadata": {
    "colab": {
     "base_uri": "https://localhost:8080/",
     "height": 145
    },
    "colab_type": "code",
    "id": "5WyKhv3JTSlO",
    "outputId": "28a3811b-a016-43d7-9980-ff9c5dbd3134"
   },
   "outputs": [
    {
     "data": {
      "text/plain": [
       "array([[    0,     0,    74, ...,    62,     6,   220],\n",
       "       [    0,     0,     0, ...,    37,     3,   966],\n",
       "       [    0,     0,     0, ...,     3,  1085,  2036],\n",
       "       ...,\n",
       "       [14677,     4,    39, ...,   435,    61,    39],\n",
       "       [    0, 31324,  1568, ...,   856,     6, 18773],\n",
       "       [ 4625,  3562, 10725, ...,  3969,     2,  1281]])"
      ]
     },
     "execution_count": 9,
     "metadata": {},
     "output_type": "execute_result"
    }
   ],
   "source": [
    "paddedSequences = pad_sequences(sequences, maxlen=maxLengthOfTexts)\n",
    "paddedSequences"
   ]
  },
  {
   "cell_type": "markdown",
   "metadata": {
    "colab_type": "text",
    "id": "hYzHItrRdBBU"
   },
   "source": [
    "# **Generating Vectors for Feature Words using GloVe**"
   ]
  },
  {
   "cell_type": "code",
   "execution_count": 10,
   "metadata": {
    "colab": {},
    "colab_type": "code",
    "id": "q1FFfflOTaYi"
   },
   "outputs": [],
   "source": [
    "def getGloveEmbedding():\n",
    "    file = \"glove.6B.100d.txt\"\n",
    "    gloveEmbeddingToVec = collections.defaultdict(list)\n",
    "    with open(file, encoding=\"utf8\") as fileObj:\n",
    "      for line in fileObj:\n",
    "        line = line.strip(\"\\n\")\n",
    "        splitted = line.split(\" \")\n",
    "        gloveEmbeddingToVec[splitted[0]] = [np.float64(i) for i in splitted[1:]]\n",
    "    return gloveEmbeddingToVec"
   ]
  },
  {
   "cell_type": "code",
   "execution_count": 11,
   "metadata": {
    "colab": {
     "base_uri": "https://localhost:8080/",
     "height": 35
    },
    "colab_type": "code",
    "id": "IoxaO4FYTcYV",
    "outputId": "0c5d4d5d-1820-4de2-df22-7e6064db558f"
   },
   "outputs": [
    {
     "name": "stdout",
     "output_type": "stream",
     "text": [
      "Total Glove Embeddings:  120688\n"
     ]
    }
   ],
   "source": [
    "gloveEmbeddingToVec = getGloveEmbedding()\n",
    "print(\"Total Glove Embeddings: \", len(gloveEmbeddingToVec))"
   ]
  },
  {
   "cell_type": "markdown",
   "metadata": {
    "colab_type": "text",
    "id": "HMihh3KLdcrs"
   },
   "source": [
    "# **One Hot Encoding of Categorical Labels**"
   ]
  },
  {
   "cell_type": "code",
   "execution_count": 12,
   "metadata": {
    "colab": {},
    "colab_type": "code",
    "id": "WfrK7U7Z3jr8"
   },
   "outputs": [],
   "source": [
    "import sklearn"
   ]
  },
  {
   "cell_type": "code",
   "execution_count": 13,
   "metadata": {
    "colab": {},
    "colab_type": "code",
    "id": "zfqT5o5ddmyc"
   },
   "outputs": [],
   "source": [
    "categories = dataDf[\"category\"].unique().tolist()\n",
    "categoryDict = {}\n",
    "count = 0\n",
    "for category in sorted(categories):\n",
    "  categoryDict[category] = [1 if x==category else 0 for x in categories]\n",
    "  count += 1"
   ]
  },
  {
   "cell_type": "code",
   "execution_count": 14,
   "metadata": {
    "colab": {
     "base_uri": "https://localhost:8080/",
     "height": 35
    },
    "colab_type": "code",
    "id": "BcRmiHGg10VS",
    "outputId": "e8381c5c-9db4-4df8-95c0-0b1e11f60341"
   },
   "outputs": [
    {
     "data": {
      "text/plain": [
       "(191973, 191973)"
      ]
     },
     "execution_count": 14,
     "metadata": {},
     "output_type": "execute_result"
    }
   ],
   "source": [
    "newsLabels = [np.array(categoryDict[x]) for x in dataDf[\"category\"].tolist()]\n",
    "len(sequences),len(newsLabels)"
   ]
  },
  {
   "cell_type": "code",
   "execution_count": 15,
   "metadata": {
    "colab": {},
    "colab_type": "code",
    "id": "sS9nrpc5TiOL"
   },
   "outputs": [],
   "source": [
    "EMBEDDING_DIM=100\n",
    "embedding_matrix = np.random.random((len(word_index) + 1, EMBEDDING_DIM))\n",
    "for word, i in word_index.items():\n",
    "    embedding_vector = gloveEmbeddingToVec.get(word)\n",
    "    if embedding_vector:\n",
    "        embedding_matrix[i] = embedding_vector"
   ]
  },
  {
   "cell_type": "markdown",
   "metadata": {
    "colab_type": "text",
    "id": "4ghL4KxdrVvd"
   },
   "source": [
    "# **Train and Test Data Split**"
   ]
  },
  {
   "cell_type": "code",
   "execution_count": 16,
   "metadata": {
    "colab": {
     "base_uri": "https://localhost:8080/",
     "height": 74
    },
    "colab_type": "code",
    "id": "Tih-3tbXTjTx",
    "outputId": "ad84d15a-14cb-4d32-a664-43ff6d112297"
   },
   "outputs": [
    {
     "name": "stderr",
     "output_type": "stream",
     "text": [
      "C:\\ProgramData\\Anaconda3\\lib\\site-packages\\sklearn\\model_selection\\_split.py:2179: FutureWarning: From version 0.21, test_size will always complement train_size unless both are specified.\n",
      "  FutureWarning)\n"
     ]
    }
   ],
   "source": [
    "X_train, X_test, y_train, y_test = sklearn.model_selection.train_test_split(np.array([i for i in paddedSequences]), np.array([i for i in newsLabels]), train_size=0.8)"
   ]
  },
  {
   "cell_type": "markdown",
   "metadata": {
    "colab_type": "text",
    "id": "peFI79n_4uLb"
   },
   "source": [
    "# **Building Neural Networks**"
   ]
  },
  {
   "cell_type": "code",
   "execution_count": 17,
   "metadata": {
    "colab": {},
    "colab_type": "code",
    "id": "UBYEBT7A5CkG"
   },
   "outputs": [],
   "source": [
    "from keras.layers import Embedding, Input, Conv1D, MaxPooling1D, Dense, Flatten, Dropout, Concatenate\n",
    "from keras.models import Model\n",
    "from keras.metrics import categorical_accuracy\n",
    "import matplotlib.pyplot as plt\n",
    "from keras.callbacks import EarlyStopping"
   ]
  },
  {
   "cell_type": "code",
   "execution_count": 18,
   "metadata": {},
   "outputs": [],
   "source": [
    "earlyStopping = EarlyStopping(monitor='val_loss', min_delta=0, patience=10, verbose=1, mode='auto')"
   ]
  },
  {
   "cell_type": "code",
   "execution_count": 19,
   "metadata": {
    "colab": {},
    "colab_type": "code",
    "id": "p7Jwqm8y3--e"
   },
   "outputs": [],
   "source": [
    "embedding_layer = Embedding(len(word_index) + 1,\n",
    "                            EMBEDDING_DIM,\n",
    "                            weights=[embedding_matrix],\n",
    "                            input_length=maxLengthOfTexts,\n",
    "                            trainable=False)"
   ]
  },
  {
   "cell_type": "markdown",
   "metadata": {
    "colab_type": "text",
    "id": "P_cA7izz42lj"
   },
   "source": [
    "# **CNN model**"
   ]
  },
  {
   "cell_type": "code",
   "execution_count": 20,
   "metadata": {
    "colab": {},
    "colab_type": "code",
    "id": "BjYyVAVz3aQX"
   },
   "outputs": [],
   "source": [
    "def getCNN():\n",
    "  inp = Input(shape=(maxLengthOfTexts,), dtype='int32')\n",
    "  embedding = embedding_layer(inp)\n",
    "\n",
    "  conv = Conv1D(256, kernel_size=2, padding='same', activation='relu', strides=1)(embedding)\n",
    "  pool = MaxPooling1D(pool_size=3)(conv)\n",
    "  drop1 = Dropout(0.5)(pool)\n",
    "  \n",
    "  conv = Conv1D(256, kernel_size=3, padding='same', activation='relu', strides=1)(embedding)\n",
    "  pool = MaxPooling1D(pool_size=3)(conv)\n",
    "  drop2 = Dropout(0.5)(pool)\n",
    "\n",
    "  conv = Conv1D(256, kernel_size=4, padding='same', activation='relu', strides=1)(embedding)\n",
    "  pool = MaxPooling1D(pool_size=3)(conv)\n",
    "  drop3 = Dropout(0.5)(pool)\n",
    "\n",
    "  merged = Concatenate()([drop1, drop2, drop3])\n",
    "  flatten = Flatten()(merged)\n",
    "  drop = Dropout(0.5)(flatten)\n",
    "  outp = Dense(len(categories), activation='softmax')(drop)\n",
    "\n",
    "  cnnModel = Model(inputs=inp, outputs=outp)\n",
    "  cnnModel.compile(loss='categorical_crossentropy', optimizer='adam', metrics=['accuracy'])\n",
    "\n",
    "  return cnnModel"
   ]
  },
  {
   "cell_type": "code",
   "execution_count": 21,
   "metadata": {},
   "outputs": [
    {
     "name": "stdout",
     "output_type": "stream",
     "text": [
      "WARNING:tensorflow:From C:\\ProgramData\\Anaconda3\\lib\\site-packages\\tensorflow\\python\\framework\\op_def_library.py:263: colocate_with (from tensorflow.python.framework.ops) is deprecated and will be removed in a future version.\n",
      "Instructions for updating:\n",
      "Colocations handled automatically by placer.\n",
      "WARNING:tensorflow:From C:\\ProgramData\\Anaconda3\\lib\\site-packages\\keras\\backend\\tensorflow_backend.py:3445: calling dropout (from tensorflow.python.ops.nn_ops) with keep_prob is deprecated and will be removed in a future version.\n",
      "Instructions for updating:\n",
      "Please use `rate` instead of `keep_prob`. Rate should be set to `rate = 1 - keep_prob`.\n",
      "__________________________________________________________________________________________________\n",
      "Layer (type)                    Output Shape         Param #     Connected to                     \n",
      "==================================================================================================\n",
      "input_1 (InputLayer)            (None, 29)           0                                            \n",
      "__________________________________________________________________________________________________\n",
      "embedding_1 (Embedding)         (None, 29, 100)      11440500    input_1[0][0]                    \n",
      "__________________________________________________________________________________________________\n",
      "conv1d_1 (Conv1D)               (None, 29, 256)      51456       embedding_1[0][0]                \n",
      "__________________________________________________________________________________________________\n",
      "conv1d_2 (Conv1D)               (None, 29, 256)      77056       embedding_1[0][0]                \n",
      "__________________________________________________________________________________________________\n",
      "conv1d_3 (Conv1D)               (None, 29, 256)      102656      embedding_1[0][0]                \n",
      "__________________________________________________________________________________________________\n",
      "max_pooling1d_1 (MaxPooling1D)  (None, 9, 256)       0           conv1d_1[0][0]                   \n",
      "__________________________________________________________________________________________________\n",
      "max_pooling1d_2 (MaxPooling1D)  (None, 9, 256)       0           conv1d_2[0][0]                   \n",
      "__________________________________________________________________________________________________\n",
      "max_pooling1d_3 (MaxPooling1D)  (None, 9, 256)       0           conv1d_3[0][0]                   \n",
      "__________________________________________________________________________________________________\n",
      "dropout_1 (Dropout)             (None, 9, 256)       0           max_pooling1d_1[0][0]            \n",
      "__________________________________________________________________________________________________\n",
      "dropout_2 (Dropout)             (None, 9, 256)       0           max_pooling1d_2[0][0]            \n",
      "__________________________________________________________________________________________________\n",
      "dropout_3 (Dropout)             (None, 9, 256)       0           max_pooling1d_3[0][0]            \n",
      "__________________________________________________________________________________________________\n",
      "concatenate_1 (Concatenate)     (None, 9, 768)       0           dropout_1[0][0]                  \n",
      "                                                                 dropout_2[0][0]                  \n",
      "                                                                 dropout_3[0][0]                  \n",
      "__________________________________________________________________________________________________\n",
      "flatten_1 (Flatten)             (None, 6912)         0           concatenate_1[0][0]              \n",
      "__________________________________________________________________________________________________\n",
      "dropout_4 (Dropout)             (None, 6912)         0           flatten_1[0][0]                  \n",
      "__________________________________________________________________________________________________\n",
      "dense_1 (Dense)                 (None, 20)           138260      dropout_4[0][0]                  \n",
      "==================================================================================================\n",
      "Total params: 11,809,928\n",
      "Trainable params: 369,428\n",
      "Non-trainable params: 11,440,500\n",
      "__________________________________________________________________________________________________\n",
      "None\n"
     ]
    }
   ],
   "source": [
    "cnnModel = getCNN()\n",
    "print(cnnModel.summary())"
   ]
  },
  {
   "cell_type": "code",
   "execution_count": 22,
   "metadata": {
    "colab": {
     "base_uri": "https://localhost:8080/",
     "height": 884
    },
    "colab_type": "code",
    "id": "_0H0AMtP4n5A",
    "outputId": "817e6ec2-0e25-4142-f80b-ffe2f7cf7663"
   },
   "outputs": [
    {
     "name": "stdout",
     "output_type": "stream",
     "text": [
      "WARNING:tensorflow:From C:\\ProgramData\\Anaconda3\\lib\\site-packages\\tensorflow\\python\\ops\\math_ops.py:3066: to_int32 (from tensorflow.python.ops.math_ops) is deprecated and will be removed in a future version.\n",
      "Instructions for updating:\n",
      "Use tf.cast instead.\n",
      "Train on 122862 samples, validate on 30716 samples\n",
      "Epoch 1/50\n",
      "122862/122862 [==============================] - 9s 76us/step - loss: 1.6705 - acc: 0.5112 - val_loss: 1.3585 - val_acc: 0.6070\n",
      "Epoch 2/50\n",
      "122862/122862 [==============================] - 7s 60us/step - loss: 1.4265 - acc: 0.5840 - val_loss: 1.3090 - val_acc: 0.6159\n",
      "Epoch 3/50\n",
      "122862/122862 [==============================] - 7s 59us/step - loss: 1.3749 - acc: 0.5999 - val_loss: 1.2753 - val_acc: 0.6316\n",
      "Epoch 4/50\n",
      "122862/122862 [==============================] - 7s 59us/step - loss: 1.3434 - acc: 0.6085 - val_loss: 1.2612 - val_acc: 0.6347\n",
      "Epoch 5/50\n",
      "122862/122862 [==============================] - 7s 59us/step - loss: 1.3219 - acc: 0.6145 - val_loss: 1.2551 - val_acc: 0.6365\n",
      "Epoch 6/50\n",
      "122862/122862 [==============================] - 7s 60us/step - loss: 1.2993 - acc: 0.6200 - val_loss: 1.2483 - val_acc: 0.6397\n",
      "Epoch 7/50\n",
      "122862/122862 [==============================] - 7s 60us/step - loss: 1.2835 - acc: 0.6234 - val_loss: 1.2426 - val_acc: 0.6395\n",
      "Epoch 8/50\n",
      "122862/122862 [==============================] - 7s 59us/step - loss: 1.2664 - acc: 0.6304 - val_loss: 1.2535 - val_acc: 0.6369\n",
      "Epoch 9/50\n",
      "122862/122862 [==============================] - 7s 59us/step - loss: 1.2506 - acc: 0.6315 - val_loss: 1.2384 - val_acc: 0.6381\n",
      "Epoch 10/50\n",
      "122862/122862 [==============================] - 7s 59us/step - loss: 1.2333 - acc: 0.6367 - val_loss: 1.2395 - val_acc: 0.6411\n",
      "Epoch 11/50\n",
      "122862/122862 [==============================] - 7s 59us/step - loss: 1.2232 - acc: 0.6396 - val_loss: 1.2420 - val_acc: 0.6437\n",
      "Epoch 12/50\n",
      "122862/122862 [==============================] - 7s 59us/step - loss: 1.2134 - acc: 0.6416 - val_loss: 1.2543 - val_acc: 0.6410\n",
      "Epoch 13/50\n",
      "122862/122862 [==============================] - 7s 59us/step - loss: 1.2077 - acc: 0.6437 - val_loss: 1.2386 - val_acc: 0.6456\n",
      "Epoch 14/50\n",
      "122862/122862 [==============================] - 7s 59us/step - loss: 1.1924 - acc: 0.6469 - val_loss: 1.2380 - val_acc: 0.6478\n",
      "Epoch 15/50\n",
      "122862/122862 [==============================] - 7s 59us/step - loss: 1.1851 - acc: 0.6475 - val_loss: 1.2448 - val_acc: 0.6477\n",
      "Epoch 16/50\n",
      "122862/122862 [==============================] - 7s 59us/step - loss: 1.1758 - acc: 0.6492 - val_loss: 1.2448 - val_acc: 0.6467\n",
      "Epoch 17/50\n",
      "122862/122862 [==============================] - 7s 59us/step - loss: 1.1664 - acc: 0.6528 - val_loss: 1.2493 - val_acc: 0.6476\n",
      "Epoch 18/50\n",
      "122862/122862 [==============================] - 7s 59us/step - loss: 1.1638 - acc: 0.6527 - val_loss: 1.2463 - val_acc: 0.6467\n",
      "Epoch 19/50\n",
      "122862/122862 [==============================] - 7s 60us/step - loss: 1.1542 - acc: 0.6558 - val_loss: 1.2468 - val_acc: 0.6494\n",
      "Epoch 20/50\n",
      "122862/122862 [==============================] - 7s 59us/step - loss: 1.1432 - acc: 0.6567 - val_loss: 1.2652 - val_acc: 0.6485\n",
      "Epoch 21/50\n",
      "122862/122862 [==============================] - 7s 59us/step - loss: 1.1362 - acc: 0.6604 - val_loss: 1.2515 - val_acc: 0.6484\n",
      "Epoch 22/50\n",
      "122862/122862 [==============================] - 7s 60us/step - loss: 1.1317 - acc: 0.6619 - val_loss: 1.2614 - val_acc: 0.6489\n",
      "Epoch 23/50\n",
      "122862/122862 [==============================] - 7s 59us/step - loss: 1.1303 - acc: 0.6614 - val_loss: 1.2610 - val_acc: 0.6488\n",
      "Epoch 24/50\n",
      "122862/122862 [==============================] - 7s 59us/step - loss: 1.1201 - acc: 0.6643 - val_loss: 1.2700 - val_acc: 0.6477\n",
      "Epoch 00024: early stopping\n"
     ]
    }
   ],
   "source": [
    "fittedModel_cnn = cnnModel.fit(X_train, y_train, validation_split=0.2, epochs=50, batch_size=128, verbose=True, callbacks=[earlyStopping])"
   ]
  },
  {
   "cell_type": "code",
   "execution_count": 23,
   "metadata": {
    "colab": {
     "base_uri": "https://localhost:8080/",
     "height": 302
    },
    "colab_type": "code",
    "id": "CV1X8puGtL5Q",
    "outputId": "e8a8b992-ea17-4853-be31-341e64e361b6"
   },
   "outputs": [
    {
     "data": {
      "image/png": "[encoded data removed]",
      "text/plain": [
       "<Figure size 432x288 with 1 Axes>"
      ]
     },
     "metadata": {
      "needs_background": "light"
     },
     "output_type": "display_data"
    }
   ],
   "source": [
    "fig1 = plt.figure()\n",
    "plt.plot(fittedModel_cnn.history['loss'],'r',linewidth=3.0)\n",
    "plt.plot(fittedModel_cnn.history['val_loss'],'b',linewidth=3.0)\n",
    "plt.legend(['Training loss', 'Validation Loss'],fontsize=18)\n",
    "plt.xlabel('Epochs ',fontsize=16)\n",
    "plt.ylabel('Loss',fontsize=16)\n",
    "plt.title('Loss Curves :CNN',fontsize=16)\n",
    "fig1.savefig('loss_cnn.png')\n",
    "plt.show()"
   ]
  },
  {
   "cell_type": "code",
   "execution_count": 24,
   "metadata": {
    "colab": {
     "base_uri": "https://localhost:8080/",
     "height": 302
    },
    "colab_type": "code",
    "id": "dgAPrs3RxeuS",
    "outputId": "61a6737c-65b4-456a-a570-a8ef795ce562"
   },
   "outputs": [
    {
     "data": {
      "image/png": "[encoded data removed]",
      "text/plain": [
       "<Figure size 432x288 with 1 Axes>"
      ]
     },
     "metadata": {
      "needs_background": "light"
     },
     "output_type": "display_data"
    }
   ],
   "source": [
    "fig2=plt.figure()\n",
    "plt.plot(fittedModel_cnn.history['acc'],'r',linewidth=3.0)\n",
    "plt.plot(fittedModel_cnn.history['val_acc'],'b',linewidth=3.0)\n",
    "plt.legend(['Training Accuracy', 'Validation Accuracy'],fontsize=18)\n",
    "plt.xlabel('Epochs ',fontsize=16)\n",
    "plt.ylabel('Accuracy',fontsize=16)\n",
    "plt.title('Accuracy Curves : CNN',fontsize=16)\n",
    "fig2.savefig('accuracy_cnn.png')\n",
    "plt.show()"
   ]
  },
  {
   "cell_type": "code",
   "execution_count": 25,
   "metadata": {
    "colab": {
     "base_uri": "https://localhost:8080/",
     "height": 34
    },
    "colab_type": "code",
    "id": "IrY63Mkb4rWM",
    "outputId": "f746919a-bbdf-4a20-e552-5bee7f16eaf8"
   },
   "outputs": [
    {
     "name": "stdout",
     "output_type": "stream",
     "text": [
      "38395/38395 [==============================] - 2s 51us/step\n"
     ]
    }
   ],
   "source": [
    "y_pred_cnn = cnnModel.predict(X_test, batch_size=None, verbose=True)"
   ]
  },
  {
   "cell_type": "code",
   "execution_count": 26,
   "metadata": {
    "colab": {},
    "colab_type": "code",
    "id": "-RkwNQz1JUbI"
   },
   "outputs": [],
   "source": [
    "temp = np.zeros((len(y_pred_cnn), len(y_pred_cnn[0])))\n",
    "count = 0\n",
    "for y in y_pred_cnn:\n",
    "  idx = np.argmax(y)\n",
    "  temp[count][idx] = 1\n",
    "  count += 1"
   ]
  },
  {
   "cell_type": "code",
   "execution_count": 27,
   "metadata": {
    "colab": {},
    "colab_type": "code",
    "id": "pkH09njTJWod"
   },
   "outputs": [],
   "source": [
    "accCount_cnn = 0\n",
    "for i in range(0, len(y_test)):\n",
    "  if np.array_equal(temp[i], y_test[i]):\n",
    "      accCount_cnn += 1"
   ]
  },
  {
   "cell_type": "code",
   "execution_count": 28,
   "metadata": {
    "colab": {
     "base_uri": "https://localhost:8080/",
     "height": 34
    },
    "colab_type": "code",
    "id": "mJ3Bn4bYKxKR",
    "outputId": "3ce1b51b-475d-4a4b-835c-6351791163e0"
   },
   "outputs": [
    {
     "name": "stdout",
     "output_type": "stream",
     "text": [
      "Test Accuracy is:  64.75\n"
     ]
    }
   ],
   "source": [
    "cnnAccuracy = round(accCount_cnn/len(y_pred_cnn) * 100, 2)\n",
    "print(\"Test Accuracy is: \", cnnAccuracy)"
   ]
  },
  {
   "cell_type": "markdown",
   "metadata": {
    "colab_type": "text",
    "id": "srzI3VHinqBF"
   },
   "source": [
    "## **Saving the CNN Model**"
   ]
  },
  {
   "cell_type": "code",
   "execution_count": 29,
   "metadata": {
    "colab": {},
    "colab_type": "code",
    "id": "hRBTsC8onpaJ"
   },
   "outputs": [
    {
     "name": "stdout",
     "output_type": "stream",
     "text": [
      "Saved model to disk\n"
     ]
    }
   ],
   "source": [
    "model_json = cnnModel.to_json()\n",
    "with open(\"cnnModel.json\", \"w\") as json_file:\n",
    "    json_file.write(model_json)\n",
    "# serialize weights to HDF5\n",
    "cnnModel.save_weights(\"cnnModel.h5\")\n",
    "print(\"Saved model to disk\")"
   ]
  },
  {
   "cell_type": "markdown",
   "metadata": {
    "colab_type": "text",
    "id": "udwk7ybDVRN6"
   },
   "source": [
    "# **RNN Model**"
   ]
  },
  {
   "cell_type": "code",
   "execution_count": 30,
   "metadata": {
    "colab": {},
    "colab_type": "code",
    "id": "JIvrB67tqT_8"
   },
   "outputs": [],
   "source": [
    "from keras.models import Sequential\n",
    "from keras.layers import SpatialDropout1D, LSTM, Dense"
   ]
  },
  {
   "cell_type": "code",
   "execution_count": 31,
   "metadata": {
    "colab": {},
    "colab_type": "code",
    "id": "ewp8FwrrL0X8"
   },
   "outputs": [],
   "source": [
    "def getRnnModel():\n",
    "  model = Sequential()\n",
    "  model.add(embedding_layer)\n",
    "  model.add(SpatialDropout1D(0.2))\n",
    "  model.add(LSTM(200, dropout=0.5, recurrent_dropout=0.5))\n",
    "  model.add(Dense(len(categories), activation='softmax'))\n",
    "  model.compile(loss='categorical_crossentropy', optimizer='adam', metrics=['accuracy'])\n",
    "  return model\n"
   ]
  },
  {
   "cell_type": "code",
   "execution_count": 32,
   "metadata": {
    "colab": {},
    "colab_type": "code",
    "id": "FDrDUcjOqS0I"
   },
   "outputs": [],
   "source": [
    "rnnModel = getRnnModel()"
   ]
  },
  {
   "cell_type": "code",
   "execution_count": 33,
   "metadata": {
    "colab": {
     "base_uri": "https://localhost:8080/",
     "height": 272
    },
    "colab_type": "code",
    "id": "coL7-yaXqYIP",
    "outputId": "1e535b5b-d2fd-4923-a116-4056a7ca0272"
   },
   "outputs": [
    {
     "name": "stdout",
     "output_type": "stream",
     "text": [
      "_________________________________________________________________\n",
      "Layer (type)                 Output Shape              Param #   \n",
      "=================================================================\n",
      "embedding_1 (Embedding)      (None, 29, 100)           11440500  \n",
      "_________________________________________________________________\n",
      "spatial_dropout1d_1 (Spatial (None, 29, 100)           0         \n",
      "_________________________________________________________________\n",
      "lstm_1 (LSTM)                (None, 200)               240800    \n",
      "_________________________________________________________________\n",
      "dense_2 (Dense)              (None, 20)                4020      \n",
      "=================================================================\n",
      "Total params: 11,685,320\n",
      "Trainable params: 244,820\n",
      "Non-trainable params: 11,440,500\n",
      "_________________________________________________________________\n"
     ]
    }
   ],
   "source": [
    "rnnModel.summary()"
   ]
  },
  {
   "cell_type": "code",
   "execution_count": 34,
   "metadata": {
    "colab": {
     "base_uri": "https://localhost:8080/",
     "height": 102
    },
    "colab_type": "code",
    "id": "CQskwyu2rL03",
    "outputId": "d0167af1-e291-4ae6-dbb3-9e2bfe832f91"
   },
   "outputs": [
    {
     "name": "stdout",
     "output_type": "stream",
     "text": [
      "Train on 122862 samples, validate on 30716 samples\n",
      "Epoch 1/50\n",
      "122862/122862 [==============================] - 62s 505us/step - loss: 1.8683 - acc: 0.4410 - val_loss: 1.3715 - val_acc: 0.5851\n",
      "Epoch 2/50\n",
      "122862/122862 [==============================] - 59s 482us/step - loss: 1.5027 - acc: 0.5481 - val_loss: 1.2690 - val_acc: 0.6125\n",
      "Epoch 3/50\n",
      "122862/122862 [==============================] - 59s 478us/step - loss: 1.4187 - acc: 0.5728 - val_loss: 1.2329 - val_acc: 0.6248\n",
      "Epoch 4/50\n",
      "122862/122862 [==============================] - 60s 487us/step - loss: 1.3733 - acc: 0.5850 - val_loss: 1.1940 - val_acc: 0.6382\n",
      "Epoch 5/50\n",
      "122862/122862 [==============================] - 60s 486us/step - loss: 1.3493 - acc: 0.5932 - val_loss: 1.1811 - val_acc: 0.6392\n",
      "Epoch 6/50\n",
      "122862/122862 [==============================] - 58s 475us/step - loss: 1.3237 - acc: 0.5981 - val_loss: 1.1635 - val_acc: 0.6482\n",
      "Epoch 7/50\n",
      "122862/122862 [==============================] - 59s 479us/step - loss: 1.3075 - acc: 0.6041 - val_loss: 1.1531 - val_acc: 0.6495\n",
      "Epoch 8/50\n",
      "122862/122862 [==============================] - 60s 486us/step - loss: 1.2953 - acc: 0.6062 - val_loss: 1.1458 - val_acc: 0.6505\n",
      "Epoch 9/50\n",
      "122862/122862 [==============================] - 60s 487us/step - loss: 1.2849 - acc: 0.6077 - val_loss: 1.1413 - val_acc: 0.6532\n",
      "Epoch 10/50\n",
      "122862/122862 [==============================] - 60s 487us/step - loss: 1.2771 - acc: 0.6124 - val_loss: 1.1320 - val_acc: 0.6565\n",
      "Epoch 11/50\n",
      "122862/122862 [==============================] - 60s 485us/step - loss: 1.2660 - acc: 0.6163 - val_loss: 1.1387 - val_acc: 0.6555\n",
      "Epoch 12/50\n",
      "122862/122862 [==============================] - 60s 485us/step - loss: 1.2619 - acc: 0.6168 - val_loss: 1.1302 - val_acc: 0.6583\n",
      "Epoch 13/50\n",
      "122862/122862 [==============================] - 60s 485us/step - loss: 1.2578 - acc: 0.6182 - val_loss: 1.1256 - val_acc: 0.6579\n",
      "Epoch 14/50\n",
      "122862/122862 [==============================] - 60s 486us/step - loss: 1.2507 - acc: 0.6199 - val_loss: 1.1256 - val_acc: 0.6589\n",
      "Epoch 15/50\n",
      "122862/122862 [==============================] - 60s 486us/step - loss: 1.2469 - acc: 0.6197 - val_loss: 1.1170 - val_acc: 0.6599\n",
      "Epoch 16/50\n",
      "122862/122862 [==============================] - 58s 475us/step - loss: 1.2450 - acc: 0.6210 - val_loss: 1.1140 - val_acc: 0.6600\n",
      "Epoch 17/50\n",
      "122862/122862 [==============================] - 58s 473us/step - loss: 1.2398 - acc: 0.6225 - val_loss: 1.1094 - val_acc: 0.6605\n",
      "Epoch 18/50\n",
      "122862/122862 [==============================] - 58s 473us/step - loss: 1.2343 - acc: 0.6239 - val_loss: 1.1103 - val_acc: 0.6642\n",
      "Epoch 19/50\n",
      "122862/122862 [==============================] - 58s 472us/step - loss: 1.2336 - acc: 0.6245 - val_loss: 1.1101 - val_acc: 0.6643\n",
      "Epoch 20/50\n",
      "122862/122862 [==============================] - 58s 476us/step - loss: 1.2295 - acc: 0.6270 - val_loss: 1.1011 - val_acc: 0.6650\n",
      "Epoch 21/50\n",
      "122862/122862 [==============================] - 58s 473us/step - loss: 1.2274 - acc: 0.6263 - val_loss: 1.1047 - val_acc: 0.6628\n",
      "Epoch 22/50\n",
      "122862/122862 [==============================] - 58s 474us/step - loss: 1.2279 - acc: 0.6252 - val_loss: 1.1041 - val_acc: 0.6644\n",
      "Epoch 23/50\n",
      "122862/122862 [==============================] - 58s 474us/step - loss: 1.2255 - acc: 0.6262 - val_loss: 1.1028 - val_acc: 0.6645\n",
      "Epoch 24/50\n",
      "122862/122862 [==============================] - 58s 474us/step - loss: 1.2236 - acc: 0.6264 - val_loss: 1.1027 - val_acc: 0.6644\n",
      "Epoch 25/50\n",
      "122862/122862 [==============================] - 58s 474us/step - loss: 1.2196 - acc: 0.6282 - val_loss: 1.0980 - val_acc: 0.6663\n",
      "Epoch 26/50\n",
      "122862/122862 [==============================] - 58s 473us/step - loss: 1.2219 - acc: 0.6281 - val_loss: 1.0970 - val_acc: 0.6676\n",
      "Epoch 27/50\n",
      "122862/122862 [==============================] - 58s 476us/step - loss: 1.2170 - acc: 0.6275 - val_loss: 1.0949 - val_acc: 0.6657\n",
      "Epoch 28/50\n",
      "122862/122862 [==============================] - 58s 475us/step - loss: 1.2156 - acc: 0.6304 - val_loss: 1.0930 - val_acc: 0.6671\n",
      "Epoch 29/50\n",
      "122862/122862 [==============================] - 58s 475us/step - loss: 1.2120 - acc: 0.6303 - val_loss: 1.0974 - val_acc: 0.6657\n",
      "Epoch 30/50\n",
      "122862/122862 [==============================] - 59s 477us/step - loss: 1.2121 - acc: 0.6311 - val_loss: 1.0970 - val_acc: 0.6671\n",
      "Epoch 31/50\n",
      "122862/122862 [==============================] - 58s 474us/step - loss: 1.2112 - acc: 0.6298 - val_loss: 1.0935 - val_acc: 0.6668\n",
      "Epoch 32/50\n",
      "122862/122862 [==============================] - 58s 474us/step - loss: 1.2107 - acc: 0.6310 - val_loss: 1.0966 - val_acc: 0.6672\n",
      "Epoch 33/50\n",
      "122862/122862 [==============================] - 58s 475us/step - loss: 1.2083 - acc: 0.6316 - val_loss: 1.0975 - val_acc: 0.6665\n",
      "Epoch 34/50\n",
      "122862/122862 [==============================] - 58s 474us/step - loss: 1.2102 - acc: 0.6312 - val_loss: 1.1008 - val_acc: 0.6663\n",
      "Epoch 35/50\n",
      "122862/122862 [==============================] - 58s 474us/step - loss: 1.2078 - acc: 0.6333 - val_loss: 1.0941 - val_acc: 0.6681\n",
      "Epoch 36/50\n",
      "122862/122862 [==============================] - 59s 477us/step - loss: 1.2088 - acc: 0.6299 - val_loss: 1.0903 - val_acc: 0.6685\n",
      "Epoch 37/50\n",
      "122862/122862 [==============================] - 58s 475us/step - loss: 1.2067 - acc: 0.6322 - val_loss: 1.0940 - val_acc: 0.6685\n",
      "Epoch 38/50\n",
      "122862/122862 [==============================] - 58s 475us/step - loss: 1.2041 - acc: 0.6329 - val_loss: 1.0856 - val_acc: 0.6713\n",
      "Epoch 39/50\n",
      "122862/122862 [==============================] - 58s 475us/step - loss: 1.2041 - acc: 0.6327 - val_loss: 1.0950 - val_acc: 0.6674\n",
      "Epoch 40/50\n",
      "122862/122862 [==============================] - 58s 474us/step - loss: 1.1992 - acc: 0.6335 - val_loss: 1.0880 - val_acc: 0.6686\n",
      "Epoch 41/50\n",
      "122862/122862 [==============================] - 58s 474us/step - loss: 1.1975 - acc: 0.6351 - val_loss: 1.0914 - val_acc: 0.6669\n",
      "Epoch 42/50\n",
      "122862/122862 [==============================] - 58s 475us/step - loss: 1.1987 - acc: 0.6342 - val_loss: 1.0885 - val_acc: 0.6702\n",
      "Epoch 43/50\n",
      "122862/122862 [==============================] - 58s 474us/step - loss: 1.1991 - acc: 0.6341 - val_loss: 1.0926 - val_acc: 0.6682\n",
      "Epoch 44/50\n",
      "122862/122862 [==============================] - 58s 475us/step - loss: 1.1996 - acc: 0.6335 - val_loss: 1.0904 - val_acc: 0.6684\n",
      "Epoch 45/50\n",
      "122862/122862 [==============================] - 58s 474us/step - loss: 1.1963 - acc: 0.6337 - val_loss: 1.0889 - val_acc: 0.6691\n",
      "Epoch 46/50\n",
      "122862/122862 [==============================] - 58s 475us/step - loss: 1.1975 - acc: 0.6333 - val_loss: 1.0902 - val_acc: 0.6695\n",
      "Epoch 47/50\n",
      "122862/122862 [==============================] - 58s 475us/step - loss: 1.1951 - acc: 0.6358 - val_loss: 1.0878 - val_acc: 0.6711\n",
      "Epoch 48/50\n",
      "122862/122862 [==============================] - 58s 474us/step - loss: 1.1969 - acc: 0.6345 - val_loss: 1.0849 - val_acc: 0.6697\n",
      "Epoch 49/50\n",
      "122862/122862 [==============================] - 58s 474us/step - loss: 1.1961 - acc: 0.6349 - val_loss: 1.0865 - val_acc: 0.6700\n",
      "Epoch 50/50\n",
      "122862/122862 [==============================] - 58s 474us/step - loss: 1.1950 - acc: 0.6351 - val_loss: 1.0833 - val_acc: 0.6710\n"
     ]
    }
   ],
   "source": [
    "fittedModel_rnn = rnnModel.fit(X_train, y_train, validation_split=0.2, epochs=50, batch_size=128, verbose=True, callbacks=[earlyStopping])"
   ]
  },
  {
   "cell_type": "code",
   "execution_count": 35,
   "metadata": {
    "colab": {},
    "colab_type": "code",
    "id": "3zAtlgTvrbY_"
   },
   "outputs": [
    {
     "data": {
      "image/png": "[encoded data removed]",
      "text/plain": [
       "<Figure size 432x288 with 1 Axes>"
      ]
     },
     "metadata": {
      "needs_background": "light"
     },
     "output_type": "display_data"
    }
   ],
   "source": [
    "fig1 = plt.figure()\n",
    "plt.plot(fittedModel_rnn.history['loss'],'r',linewidth=3.0)\n",
    "plt.plot(fittedModel_rnn.history['val_loss'],'b',linewidth=3.0)\n",
    "plt.legend(['Training loss', 'Validation Loss'],fontsize=18)\n",
    "plt.xlabel('Epochs ',fontsize=16)\n",
    "plt.ylabel('Loss',fontsize=16)\n",
    "plt.title('Loss Curves :RNN',fontsize=16)\n",
    "fig1.savefig('loss_rnn.png')\n",
    "plt.show()"
   ]
  },
  {
   "cell_type": "code",
   "execution_count": 36,
   "metadata": {
    "colab": {},
    "colab_type": "code",
    "id": "I3Q8PY0crnym"
   },
   "outputs": [
    {
     "data": {
      "image/png": "[encoded data removed]",
      "text/plain": [
       "<Figure size 432x288 with 1 Axes>"
      ]
     },
     "metadata": {
      "needs_background": "light"
     },
     "output_type": "display_data"
    }
   ],
   "source": [
    "fig2=plt.figure()\n",
    "plt.plot(fittedModel_rnn.history['acc'],'r',linewidth=3.0)\n",
    "plt.plot(fittedModel_rnn.history['val_acc'],'b',linewidth=3.0)\n",
    "plt.legend(['Training Accuracy', 'Validation Accuracy'],fontsize=18)\n",
    "plt.xlabel('Epochs ',fontsize=16)\n",
    "plt.ylabel('Accuracy',fontsize=16)\n",
    "plt.title('Accuracy Curves : RNN',fontsize=16)\n",
    "fig2.savefig('accuracy_rnn.png')\n",
    "plt.show()"
   ]
  },
  {
   "cell_type": "code",
   "execution_count": 37,
   "metadata": {},
   "outputs": [
    {
     "name": "stdout",
     "output_type": "stream",
     "text": [
      "38395/38395 [==============================] - 26s 665us/step\n"
     ]
    }
   ],
   "source": [
    "y_pred_rnn = rnnModel.predict(X_test, batch_size=None, verbose=True)"
   ]
  },
  {
   "cell_type": "code",
   "execution_count": 38,
   "metadata": {},
   "outputs": [],
   "source": [
    "temp = np.zeros((len(y_pred_rnn), len(y_pred_rnn[0])))\n",
    "count = 0\n",
    "for y in y_pred_rnn:\n",
    "  idx =np.argmax(y)\n",
    "  temp[count][idx] = 1\n",
    "  count+=1"
   ]
  },
  {
   "cell_type": "code",
   "execution_count": 39,
   "metadata": {},
   "outputs": [],
   "source": [
    "accCount_rnn = 0\n",
    "for i in range(0, len(y_test)):\n",
    "  if np.array_equal(temp[i], y_test[i]):\n",
    "      accCount_rnn += 1"
   ]
  },
  {
   "cell_type": "code",
   "execution_count": 40,
   "metadata": {},
   "outputs": [
    {
     "name": "stdout",
     "output_type": "stream",
     "text": [
      "Test Accuracy is:  67.01\n"
     ]
    }
   ],
   "source": [
    "rnnAccuracy = round(accCount_rnn/len(y_pred_rnn) * 100, 2)\n",
    "print(\"Test Accuracy is: \", rnnAccuracy)"
   ]
  },
  {
   "cell_type": "markdown",
   "metadata": {},
   "source": [
    "## Saving the RNN Model"
   ]
  },
  {
   "cell_type": "code",
   "execution_count": 41,
   "metadata": {},
   "outputs": [
    {
     "name": "stdout",
     "output_type": "stream",
     "text": [
      "Saved model to disk\n"
     ]
    }
   ],
   "source": [
    "model_json = rnnModel.to_json()\n",
    "with open(\"rnnModel.json\", \"w\") as json_file:\n",
    "    json_file.write(model_json)\n",
    "# serialize weights to HDF5\n",
    "rnnModel.save_weights(\"rnnModel.h5\")\n",
    "print(\"Saved model to disk\")"
   ]
  },
  {
   "cell_type": "markdown",
   "metadata": {
    "colab_type": "text",
    "id": "ravaOTvA2sIy"
   },
   "source": [
    "# **HAN Model**"
   ]
  },
  {
   "cell_type": "code",
   "execution_count": 42,
   "metadata": {
    "colab": {},
    "colab_type": "code",
    "id": "7njisu267fNg"
   },
   "outputs": [
    {
     "name": "stderr",
     "output_type": "stream",
     "text": [
      "[nltk_data] Downloading package punkt to\n",
      "[nltk_data]     C:\\Users\\ckaidab\\AppData\\Roaming\\nltk_data...\n",
      "[nltk_data]   Package punkt is already up-to-date!\n"
     ]
    },
    {
     "data": {
      "text/plain": [
       "True"
      ]
     },
     "execution_count": 42,
     "metadata": {},
     "output_type": "execute_result"
    }
   ],
   "source": [
    "from keras.callbacks import Callback\n",
    "from keras.layers import Bidirectional, TimeDistributed, Layer, LSTM\n",
    "from keras import initializers, regularizers, constraints\n",
    "import keras.backend as K\n",
    "import re\n",
    "from nltk import tokenize\n",
    "from keras.preprocessing.text import text_to_word_sequence\n",
    "from nltk import punkt\n",
    "nltk.download('punkt')"
   ]
  },
  {
   "cell_type": "markdown",
   "metadata": {
    "colab_type": "text",
    "id": "zGFl7FzbLpan"
   },
   "source": [
    "## Preprocessing for HAN"
   ]
  },
  {
   "cell_type": "code",
   "execution_count": 43,
   "metadata": {},
   "outputs": [],
   "source": [
    "MAX_SENTS = 3\n",
    "newsSent = []\n",
    "newsList = []\n",
    "for line in newsTexts:\n",
    "    line = re.sub(r\"\\\\\", \"\", line)\n",
    "    line = re.sub(r\"\\'\", \"\", line)\n",
    "    line = re.sub(r\"\\\"\", \"\", line)\n",
    "    line = re.sub(r\"\\‘\", \"\", line)\n",
    "    line = line.strip().lower()\n",
    "    newsList.append(line)\n",
    "    sentences = tokenize.sent_tokenize(line)\n",
    "    newsSent.append(sentences)"
   ]
  },
  {
   "cell_type": "code",
   "execution_count": 44,
   "metadata": {
    "colab": {
     "base_uri": "https://localhost:8080/",
     "height": 244
    },
    "colab_type": "code",
    "id": "RSFgMl07IJ2X",
    "outputId": "7558a494-3ea6-45aa-b335-d57c7102b08e"
   },
   "outputs": [],
   "source": [
    "data = np.zeros((len(newsList), MAX_SENTS, maxLengthOfTexts), dtype='int32')\n",
    "MAX_NB_WORDS = len(tokenObj.word_index)+1\n",
    "\n",
    "for i, sentences in enumerate(newsSent):\n",
    "    for j, sent in enumerate(sentences):\n",
    "        if j< MAX_SENTS:\n",
    "            wordTokens = text_to_word_sequence(sent)\n",
    "            k=0\n",
    "            for _, word in enumerate(wordTokens):\n",
    "                if(k<maxLengthOfTexts and tokenObj.word_index.get(word,MAX_NB_WORDS+1)<MAX_NB_WORDS):\n",
    "                    data[i,j,k] = tokenObj.word_index[word]\n",
    "                    k=k+1  "
   ]
  },
  {
   "cell_type": "markdown",
   "metadata": {},
   "source": [
    "### Train test and validation split for HAN"
   ]
  },
  {
   "cell_type": "code",
   "execution_count": 45,
   "metadata": {},
   "outputs": [],
   "source": [
    "X_train_han, X_test_han, y_train_han, y_test_han = sklearn.model_selection.train_test_split(data, np.array([i for i in newsLabels]), test_size=0.33, random_state=42)"
   ]
  },
  {
   "cell_type": "markdown",
   "metadata": {},
   "source": [
    "### Build HAN model"
   ]
  },
  {
   "cell_type": "code",
   "execution_count": 46,
   "metadata": {},
   "outputs": [],
   "source": [
    "class AttentionWithContext(Layer):\n",
    "\n",
    "    def __init__(self,\n",
    "                 W_regularizer=None, u_regularizer=None, b_regularizer=None,\n",
    "                 W_constraint=None, u_constraint=None, b_constraint=None,\n",
    "                 bias=True, **kwargs):\n",
    "\n",
    "        self.supports_masking = True\n",
    "        self.init = initializers.get('glorot_uniform')\n",
    "\n",
    "        self.W_regularizer = regularizers.get(W_regularizer)\n",
    "        self.u_regularizer = regularizers.get(u_regularizer)\n",
    "        self.b_regularizer = regularizers.get(b_regularizer)\n",
    "\n",
    "        self.W_constraint = constraints.get(W_constraint)\n",
    "        self.u_constraint = constraints.get(u_constraint)\n",
    "        self.b_constraint = constraints.get(b_constraint)\n",
    "\n",
    "        self.bias = bias\n",
    "        super(AttentionWithContext, self).__init__(**kwargs)\n",
    "\n",
    "    def build(self, input_shape):\n",
    "        assert len(input_shape) == 3\n",
    "\n",
    "        self.W = self.add_weight((input_shape[-1], input_shape[-1],),\n",
    "                                 initializer=self.init,\n",
    "                                 name='{}_W'.format(self.name),\n",
    "                                 regularizer=self.W_regularizer,\n",
    "                                 constraint=self.W_constraint)\n",
    "        if self.bias:\n",
    "            self.b = self.add_weight((input_shape[-1],),\n",
    "                                     initializer='zero',\n",
    "                                     name='{}_b'.format(self.name),\n",
    "                                     regularizer=self.b_regularizer,\n",
    "                                     constraint=self.b_constraint)\n",
    "\n",
    "        self.u = self.add_weight((input_shape[-1],),\n",
    "                                 initializer=self.init,\n",
    "                                 name='{}_u'.format(self.name),\n",
    "                                 regularizer=self.u_regularizer,\n",
    "                                 constraint=self.u_constraint)\n",
    "\n",
    "        super(AttentionWithContext, self).build(input_shape)\n",
    "\n",
    "    def compute_mask(self, input, input_mask=None):\n",
    "        return None\n",
    "\n",
    "    def call(self, x, mask=None):\n",
    "        uit = dot_product(x, self.W)\n",
    "\n",
    "        if self.bias:\n",
    "            uit += self.b\n",
    "\n",
    "        uit = K.tanh(uit)\n",
    "        ait = dot_product(uit, self.u)\n",
    "\n",
    "        a = K.exp(ait)\n",
    "\n",
    "        if mask is not None:\n",
    "            a *= K.cast(mask, K.floatx())\n",
    "\n",
    "        a /= K.cast(K.sum(a, axis=1, keepdims=True) + K.epsilon(), K.floatx())\n",
    "\n",
    "        a = K.expand_dims(a)\n",
    "        weighted_input = x * a\n",
    "        return K.sum(weighted_input, axis=1)\n",
    "\n",
    "    def compute_output_shape(self, input_shape):\n",
    "        return input_shape[0], input_shape[-1]"
   ]
  },
  {
   "cell_type": "code",
   "execution_count": 47,
   "metadata": {},
   "outputs": [],
   "source": [
    "def dot_product(x, kernel):\n",
    "    if K.backend() == 'tensorflow':\n",
    "        return K.squeeze(K.dot(x, K.expand_dims(kernel)), axis=-1)\n",
    "    else:\n",
    "        return K.dot(x, kernel)"
   ]
  },
  {
   "cell_type": "code",
   "execution_count": 48,
   "metadata": {
    "colab": {
     "base_uri": "https://localhost:8080/",
     "height": 35
    },
    "colab_type": "code",
    "id": "bxlTEcekG3Uy",
    "outputId": "0961db48-df66-43dd-8314-10752d4e463a"
   },
   "outputs": [],
   "source": [
    "def getHAN():\n",
    "    sentence_input = Input(shape=(maxLengthOfTexts,), dtype='int32')\n",
    "    word_input = Input(shape=(maxLengthOfTexts,), dtype='float32')\n",
    "    word_sequences = embedding_layer(word_input)\n",
    "    word_lstm = Bidirectional(LSTM(150, dropout=0.4, recurrent_dropout=0.5, return_sequences=True))(word_sequences)\n",
    "    word_dense = TimeDistributed(Dense(200))(word_lstm)\n",
    "    word_att = AttentionWithContext()(word_dense)\n",
    "    wordEncoder = Model(word_input, word_att)\n",
    "\n",
    "    sent_input = Input(shape=(MAX_SENTS,maxLengthOfTexts), dtype='float32')\n",
    "    sent_encoder = TimeDistributed(wordEncoder)(sent_input)\n",
    "    sent_lstm = Bidirectional(LSTM(150, dropout=0.4, recurrent_dropout=0.5, return_sequences=True))(sent_encoder)\n",
    "    sent_dense = TimeDistributed(Dense(200))(sent_lstm)\n",
    "    sent_att = Dropout(0.5)(AttentionWithContext()(sent_dense))\n",
    "    preds = Dense(len(categories), activation='softmax')(sent_att)\n",
    "    model = Model(sent_input, preds)\n",
    "    model.compile(loss='categorical_crossentropy',optimizer='adam',metrics=['acc'])\n",
    "\n",
    "    print(\"Hierachical LSTM\")\n",
    "    return model"
   ]
  },
  {
   "cell_type": "code",
   "execution_count": 49,
   "metadata": {},
   "outputs": [
    {
     "name": "stdout",
     "output_type": "stream",
     "text": [
      "Hierachical LSTM\n"
     ]
    }
   ],
   "source": [
    "hanModel = getHAN()"
   ]
  },
  {
   "cell_type": "code",
   "execution_count": 50,
   "metadata": {},
   "outputs": [
    {
     "name": "stdout",
     "output_type": "stream",
     "text": [
      "_________________________________________________________________\n",
      "Layer (type)                 Output Shape              Param #   \n",
      "=================================================================\n",
      "input_4 (InputLayer)         (None, 3, 29)             0         \n",
      "_________________________________________________________________\n",
      "time_distributed_2 (TimeDist (None, 3, 200)            11842300  \n",
      "_________________________________________________________________\n",
      "bidirectional_2 (Bidirection (None, 3, 300)            421200    \n",
      "_________________________________________________________________\n",
      "time_distributed_3 (TimeDist (None, 3, 200)            60200     \n",
      "_________________________________________________________________\n",
      "attention_with_context_2 (At (None, 200)               40400     \n",
      "_________________________________________________________________\n",
      "dropout_5 (Dropout)          (None, 200)               0         \n",
      "_________________________________________________________________\n",
      "dense_5 (Dense)              (None, 20)                4020      \n",
      "=================================================================\n",
      "Total params: 12,368,120\n",
      "Trainable params: 927,620\n",
      "Non-trainable params: 11,440,500\n",
      "_________________________________________________________________\n"
     ]
    }
   ],
   "source": [
    "hanModel.summary()"
   ]
  },
  {
   "cell_type": "code",
   "execution_count": 51,
   "metadata": {
    "colab": {},
    "colab_type": "code",
    "id": "WHhSBeRuIr41"
   },
   "outputs": [
    {
     "name": "stdout",
     "output_type": "stream",
     "text": [
      "Train on 102896 samples, validate on 25725 samples\n",
      "Epoch 1/50\n",
      "102896/102896 [==============================] - 102s 994us/step - loss: 1.5945 - acc: 0.5355 - val_loss: 1.1821 - val_acc: 0.6515\n",
      "Epoch 2/50\n",
      "102896/102896 [==============================] - 97s 939us/step - loss: 1.2497 - acc: 0.6347 - val_loss: 1.0804 - val_acc: 0.6763\n",
      "Epoch 3/50\n",
      "102896/102896 [==============================] - 97s 944us/step - loss: 1.1568 - acc: 0.6591 - val_loss: 1.0186 - val_acc: 0.6932\n",
      "Epoch 4/50\n",
      "102896/102896 [==============================] - 97s 946us/step - loss: 1.0945 - acc: 0.6743 - val_loss: 0.9995 - val_acc: 0.6990\n",
      "Epoch 5/50\n",
      "102896/102896 [==============================] - 97s 944us/step - loss: 1.0531 - acc: 0.6853 - val_loss: 0.9681 - val_acc: 0.7089\n",
      "Epoch 6/50\n",
      "102896/102896 [==============================] - 97s 943us/step - loss: 1.0214 - acc: 0.6944 - val_loss: 0.9545 - val_acc: 0.7134\n",
      "Epoch 7/50\n",
      "102896/102896 [==============================] - 97s 947us/step - loss: 0.9896 - acc: 0.7022 - val_loss: 0.9280 - val_acc: 0.7193\n",
      "Epoch 8/50\n",
      "102896/102896 [==============================] - 97s 946us/step - loss: 0.9703 - acc: 0.7064 - val_loss: 0.9174 - val_acc: 0.7238\n",
      "Epoch 9/50\n",
      "102896/102896 [==============================] - 97s 946us/step - loss: 0.9491 - acc: 0.7128 - val_loss: 0.9151 - val_acc: 0.7244\n",
      "Epoch 10/50\n",
      "102896/102896 [==============================] - 98s 948us/step - loss: 0.9312 - acc: 0.7171 - val_loss: 0.9074 - val_acc: 0.7268\n",
      "Epoch 11/50\n",
      "102896/102896 [==============================] - 97s 940us/step - loss: 0.9142 - acc: 0.7212 - val_loss: 0.8979 - val_acc: 0.7318\n",
      "Epoch 12/50\n",
      "102896/102896 [==============================] - 97s 943us/step - loss: 0.8996 - acc: 0.7263 - val_loss: 0.8950 - val_acc: 0.7308\n",
      "Epoch 13/50\n",
      "102896/102896 [==============================] - 97s 942us/step - loss: 0.8881 - acc: 0.7292 - val_loss: 0.8913 - val_acc: 0.7301\n",
      "Epoch 14/50\n",
      "102896/102896 [==============================] - 97s 940us/step - loss: 0.8806 - acc: 0.7310 - val_loss: 0.9066 - val_acc: 0.7285\n",
      "Epoch 15/50\n",
      "102896/102896 [==============================] - 97s 939us/step - loss: 0.8681 - acc: 0.7351 - val_loss: 0.8924 - val_acc: 0.7334\n",
      "Epoch 16/50\n",
      "102896/102896 [==============================] - 97s 943us/step - loss: 0.8573 - acc: 0.7380 - val_loss: 0.8850 - val_acc: 0.7330\n",
      "Epoch 17/50\n",
      "102896/102896 [==============================] - 97s 940us/step - loss: 0.8495 - acc: 0.7380 - val_loss: 0.8895 - val_acc: 0.7357\n",
      "Epoch 18/50\n",
      "102896/102896 [==============================] - 97s 947us/step - loss: 0.8440 - acc: 0.7410 - val_loss: 0.8915 - val_acc: 0.7346\n",
      "Epoch 19/50\n",
      "102896/102896 [==============================] - 97s 946us/step - loss: 0.8333 - acc: 0.7435 - val_loss: 0.8811 - val_acc: 0.7345\n",
      "Epoch 20/50\n",
      "102896/102896 [==============================] - 97s 946us/step - loss: 0.8264 - acc: 0.7463 - val_loss: 0.8931 - val_acc: 0.7339\n",
      "Epoch 21/50\n",
      "102896/102896 [==============================] - 97s 943us/step - loss: 0.8188 - acc: 0.7465 - val_loss: 0.8817 - val_acc: 0.7361\n",
      "Epoch 22/50\n",
      "102896/102896 [==============================] - 96s 936us/step - loss: 0.8107 - acc: 0.7488 - val_loss: 0.8881 - val_acc: 0.7361\n",
      "Epoch 23/50\n",
      "102896/102896 [==============================] - 98s 951us/step - loss: 0.8073 - acc: 0.7490 - val_loss: 0.8773 - val_acc: 0.7359\n",
      "Epoch 24/50\n",
      "102896/102896 [==============================] - 98s 948us/step - loss: 0.8026 - acc: 0.7514 - val_loss: 0.8964 - val_acc: 0.7368\n",
      "Epoch 25/50\n",
      "102896/102896 [==============================] - 97s 940us/step - loss: 0.7946 - acc: 0.7527 - val_loss: 0.8782 - val_acc: 0.7380\n",
      "Epoch 26/50\n",
      "102896/102896 [==============================] - 97s 943us/step - loss: 0.7935 - acc: 0.7531 - val_loss: 0.8887 - val_acc: 0.7354\n",
      "Epoch 27/50\n",
      "102896/102896 [==============================] - 96s 934us/step - loss: 0.7882 - acc: 0.7549 - val_loss: 0.8820 - val_acc: 0.7389\n",
      "Epoch 28/50\n",
      "102896/102896 [==============================] - 95s 928us/step - loss: 0.7836 - acc: 0.7559 - val_loss: 0.8930 - val_acc: 0.7369\n",
      "Epoch 29/50\n",
      "102896/102896 [==============================] - 96s 932us/step - loss: 0.7797 - acc: 0.7583 - val_loss: 0.8765 - val_acc: 0.7402\n",
      "Epoch 30/50\n",
      "102896/102896 [==============================] - 95s 926us/step - loss: 0.7728 - acc: 0.7595 - val_loss: 0.8970 - val_acc: 0.7381\n",
      "Epoch 31/50\n",
      "102896/102896 [==============================] - 95s 926us/step - loss: 0.7733 - acc: 0.7582 - val_loss: 0.8797 - val_acc: 0.7371\n",
      "Epoch 32/50\n",
      "102896/102896 [==============================] - 95s 923us/step - loss: 0.7686 - acc: 0.7592 - val_loss: 0.8939 - val_acc: 0.7364\n",
      "Epoch 33/50\n",
      "102896/102896 [==============================] - 96s 930us/step - loss: 0.7661 - acc: 0.7610 - val_loss: 0.8930 - val_acc: 0.7362\n",
      "Epoch 34/50\n",
      "102896/102896 [==============================] - 95s 927us/step - loss: 0.7602 - acc: 0.7630 - val_loss: 0.8967 - val_acc: 0.7410\n",
      "Epoch 35/50\n",
      "102896/102896 [==============================] - 96s 932us/step - loss: 0.7582 - acc: 0.7650 - val_loss: 0.8764 - val_acc: 0.7380\n",
      "Epoch 36/50\n",
      "102896/102896 [==============================] - 97s 941us/step - loss: 0.7559 - acc: 0.7633 - val_loss: 0.8975 - val_acc: 0.7401\n",
      "Epoch 37/50\n",
      "102896/102896 [==============================] - 95s 928us/step - loss: 0.7557 - acc: 0.7643 - val_loss: 0.8861 - val_acc: 0.7396\n",
      "Epoch 38/50\n",
      "102896/102896 [==============================] - 96s 930us/step - loss: 0.7465 - acc: 0.7666 - val_loss: 0.8855 - val_acc: 0.7406\n",
      "Epoch 39/50\n",
      "102896/102896 [==============================] - 95s 928us/step - loss: 0.7450 - acc: 0.7671 - val_loss: 0.8891 - val_acc: 0.7395\n",
      "Epoch 40/50\n",
      "102896/102896 [==============================] - 96s 937us/step - loss: 0.7439 - acc: 0.7673 - val_loss: 0.9041 - val_acc: 0.7391\n",
      "Epoch 41/50\n",
      "102896/102896 [==============================] - 96s 935us/step - loss: 0.7432 - acc: 0.7682 - val_loss: 0.8914 - val_acc: 0.7381\n",
      "Epoch 42/50\n",
      "102896/102896 [==============================] - 95s 924us/step - loss: 0.7385 - acc: 0.7667 - val_loss: 0.8917 - val_acc: 0.7389\n",
      "Epoch 43/50\n",
      "102896/102896 [==============================] - 95s 921us/step - loss: 0.7373 - acc: 0.7692 - val_loss: 0.8952 - val_acc: 0.7416\n",
      "Epoch 44/50\n",
      "102896/102896 [==============================] - 95s 921us/step - loss: 0.7323 - acc: 0.7692 - val_loss: 0.8921 - val_acc: 0.7390\n",
      "Epoch 45/50\n",
      "102896/102896 [==============================] - 95s 926us/step - loss: 0.7309 - acc: 0.7713 - val_loss: 0.9007 - val_acc: 0.7392\n",
      "Epoch 00045: early stopping\n"
     ]
    }
   ],
   "source": [
    "fittedModel_han = hanModel.fit(X_train_han, y_train_han, validation_split=0.2, epochs=50, batch_size=128, verbose=True, callbacks=[earlyStopping])"
   ]
  },
  {
   "cell_type": "code",
   "execution_count": 52,
   "metadata": {
    "colab": {},
    "colab_type": "code",
    "id": "3zAtlgTvrbY_"
   },
   "outputs": [
    {
     "data": {
      "image/png": "[encoded data removed]",
      "text/plain": [
       "<Figure size 432x288 with 1 Axes>"
      ]
     },
     "metadata": {
      "needs_background": "light"
     },
     "output_type": "display_data"
    }
   ],
   "source": [
    "fig1 = plt.figure()\n",
    "plt.plot(fittedModel_han.history['loss'],'r',linewidth=3.0)\n",
    "plt.plot(fittedModel_han.history['val_loss'],'b',linewidth=3.0)\n",
    "plt.legend(['Training loss', 'Validation Loss'],fontsize=18)\n",
    "plt.xlabel('Epochs ',fontsize=16)\n",
    "plt.ylabel('Loss',fontsize=16)\n",
    "plt.title('Loss Curves :HAN',fontsize=16)\n",
    "fig1.savefig('loss_han.png')\n",
    "plt.show()"
   ]
  },
  {
   "cell_type": "code",
   "execution_count": 53,
   "metadata": {
    "colab": {},
    "colab_type": "code",
    "id": "I3Q8PY0crnym"
   },
   "outputs": [
    {
     "data": {
      "image/png": "[encoded data removed]",
      "text/plain": [
       "<Figure size 432x288 with 1 Axes>"
      ]
     },
     "metadata": {
      "needs_background": "light"
     },
     "output_type": "display_data"
    }
   ],
   "source": [
    "fig2=plt.figure()\n",
    "plt.plot(fittedModel_han.history['acc'],'r',linewidth=3.0)\n",
    "plt.plot(fittedModel_han.history['val_acc'],'b',linewidth=3.0)\n",
    "plt.legend(['Training Accuracy', 'Validation Accuracy'],fontsize=18)\n",
    "plt.xlabel('Epochs ',fontsize=16)\n",
    "plt.ylabel('Accuracy',fontsize=16)\n",
    "plt.title('Accuracy Curves : HAN',fontsize=16)\n",
    "fig2.savefig('accuracy_han.png')\n",
    "plt.show()"
   ]
  },
  {
   "cell_type": "code",
   "execution_count": 54,
   "metadata": {},
   "outputs": [
    {
     "name": "stdout",
     "output_type": "stream",
     "text": [
      "63352/63352 [==============================] - 68s 1ms/step\n"
     ]
    }
   ],
   "source": [
    "y_pred_han = hanModel.predict(X_test_han, batch_size=None, verbose=True)"
   ]
  },
  {
   "cell_type": "code",
   "execution_count": 55,
   "metadata": {},
   "outputs": [],
   "source": [
    "temp = np.zeros((len(y_pred_han), len(y_pred_han[0])))\n",
    "count = 0\n",
    "for y in y_pred_han:\n",
    "  idx =np.argmax(y)\n",
    "  temp[count][idx] = 1\n",
    "  count+=1"
   ]
  },
  {
   "cell_type": "code",
   "execution_count": 56,
   "metadata": {},
   "outputs": [],
   "source": [
    "accCount_han = 0\n",
    "for i in range(0, len(y_test_han)):\n",
    "  if np.array_equal(temp[i], y_test_han[i]):\n",
    "      accCount_han += 1\n"
   ]
  },
  {
   "cell_type": "code",
   "execution_count": 57,
   "metadata": {},
   "outputs": [
    {
     "name": "stdout",
     "output_type": "stream",
     "text": [
      "Test Accuracy is:  74.05\n"
     ]
    }
   ],
   "source": [
    "hanAccuracy = round(accCount_han/len(y_pred_han) * 100, 2)\n",
    "print(\"Test Accuracy is: \", hanAccuracy)"
   ]
  },
  {
   "cell_type": "markdown",
   "metadata": {},
   "source": [
    "## Saving HAN Model"
   ]
  },
  {
   "cell_type": "code",
   "execution_count": 58,
   "metadata": {},
   "outputs": [
    {
     "name": "stdout",
     "output_type": "stream",
     "text": [
      "Saved model to disk\n"
     ]
    }
   ],
   "source": [
    "model_json = hanModel.to_json()\n",
    "with open(\"hanModel.json\", \"w\") as json_file:\n",
    "    json_file.write(model_json)\n",
    "# serialize weights to HDF5\n",
    "hanModel.save_weights(\"hanModel.h5\")\n",
    "print(\"Saved model to disk\")"
   ]
  },
  {
   "cell_type": "markdown",
   "metadata": {},
   "source": [
    "# Visualizing the Results"
   ]
  },
  {
   "cell_type": "code",
   "execution_count": 59,
   "metadata": {},
   "outputs": [
    {
     "data": {
      "image/png": "[encoded data removed]",
      "text/plain": [
       "<Figure size 432x288 with 1 Axes>"
      ]
     },
     "metadata": {
      "needs_background": "light"
     },
     "output_type": "display_data"
    }
   ],
   "source": [
    "import matplotlib.pyplot as plt\n",
    "import numpy as np\n",
    "label = [ 'CNN', 'RNN', 'HAN' ]\n",
    "accuracies = [ cnnAccuracy, rnnAccuracy, hanAccuracy ]\n",
    "index = np.arange(len(label))\n",
    "plt.bar(label, accuracies)\n",
    "plt.xlabel('Models', fontsize=20)\n",
    "plt.ylabel('Accuracy Value(%)', fontsize=20)\n",
    "plt.xticks(index, label, fontsize=15)\n",
    "plt.title('Accuracy of DNN Models')\n",
    "plt.show()"
   ]
  },
  {
   "cell_type": "markdown",
   "metadata": {},
   "source": [
    "# Running CNN Model by loading saved weights"
   ]
  },
  {
   "cell_type": "code",
   "execution_count": 60,
   "metadata": {},
   "outputs": [],
   "source": [
    "from keras.models import model_from_json"
   ]
  },
  {
   "cell_type": "code",
   "execution_count": 61,
   "metadata": {},
   "outputs": [
    {
     "name": "stdout",
     "output_type": "stream",
     "text": [
      "Loaded model from disk\n"
     ]
    }
   ],
   "source": [
    "json_file = open('cnnModel.json', 'r')\n",
    "loaded_model_json = json_file.read()\n",
    "json_file.close()\n",
    "loaded_cnn_model = model_from_json(loaded_model_json)\n",
    "# load weights into new model\n",
    "loaded_cnn_model.load_weights(\"cnnModel.h5\")\n",
    "print(\"Loaded model from disk\")"
   ]
  },
  {
   "cell_type": "code",
   "execution_count": 62,
   "metadata": {},
   "outputs": [
    {
     "name": "stdout",
     "output_type": "stream",
     "text": [
      "38395/38395 [==============================] - 2s 65us/step\n"
     ]
    }
   ],
   "source": [
    "loadedCnnModel_pred = loaded_cnn_model.predict(X_test, batch_size=None, verbose=True)"
   ]
  },
  {
   "cell_type": "code",
   "execution_count": 63,
   "metadata": {},
   "outputs": [],
   "source": [
    "temp = np.zeros((len(loadedCnnModel_pred), len(loadedCnnModel_pred[0])))\n",
    "count = 0\n",
    "for y in loadedCnnModel_pred:\n",
    "  idx = np.argmax(y)\n",
    "  temp[count][idx] = 1\n",
    "  count += 1"
   ]
  },
  {
   "cell_type": "code",
   "execution_count": 64,
   "metadata": {},
   "outputs": [],
   "source": [
    "accCount_cnn = 0\n",
    "for i in range(0, len(y_test)):\n",
    "  if np.array_equal(temp[i], y_test[i]):\n",
    "      accCount_cnn += 1\n"
   ]
  },
  {
   "cell_type": "code",
   "execution_count": 65,
   "metadata": {},
   "outputs": [
    {
     "name": "stdout",
     "output_type": "stream",
     "text": [
      "Test Accuracy is:  64.75\n"
     ]
    }
   ],
   "source": [
    "cnnAccuracy = round(accCount_cnn/len(loadedCnnModel_pred) * 100, 2)\n",
    "print(\"Test Accuracy is: \", cnnAccuracy)"
   ]
  },
  {
   "cell_type": "markdown",
   "metadata": {},
   "source": [
    "# Running RNN Model by loading saved weights"
   ]
  },
  {
   "cell_type": "code",
   "execution_count": 66,
   "metadata": {},
   "outputs": [],
   "source": [
    "from keras.models import model_from_json"
   ]
  },
  {
   "cell_type": "code",
   "execution_count": 67,
   "metadata": {},
   "outputs": [
    {
     "name": "stdout",
     "output_type": "stream",
     "text": [
      "Loaded model from disk\n"
     ]
    }
   ],
   "source": [
    "json_file = open('rnnModel.json', 'r')\n",
    "loaded_model_json = json_file.read()\n",
    "json_file.close()\n",
    "loaded_rnn_model = model_from_json(loaded_model_json)\n",
    "# load weights into new model\n",
    "loaded_rnn_model.load_weights(\"rnnModel.h5\")\n",
    "print(\"Loaded model from disk\")"
   ]
  },
  {
   "cell_type": "code",
   "execution_count": 68,
   "metadata": {},
   "outputs": [
    {
     "name": "stdout",
     "output_type": "stream",
     "text": [
      "38395/38395 [==============================] - 25s 663us/step\n"
     ]
    }
   ],
   "source": [
    "loadedRnnModel_pred = loaded_rnn_model.predict(X_test, batch_size=None, verbose=True)"
   ]
  },
  {
   "cell_type": "code",
   "execution_count": 69,
   "metadata": {},
   "outputs": [],
   "source": [
    "temp = np.zeros((len(loadedRnnModel_pred), len(loadedRnnModel_pred[0])))\n",
    "count = 0\n",
    "for y in loadedRnnModel_pred:\n",
    "  idx = np.argmax(y)\n",
    "  temp[count][idx] = 1\n",
    "  count += 1"
   ]
  },
  {
   "cell_type": "code",
   "execution_count": 70,
   "metadata": {},
   "outputs": [],
   "source": [
    "accCount_rnn = 0\n",
    "for i in range(0, len(y_test)):\n",
    "  if np.array_equal(temp[i], y_test[i]):\n",
    "      accCount_rnn += 1"
   ]
  },
  {
   "cell_type": "code",
   "execution_count": 71,
   "metadata": {},
   "outputs": [
    {
     "name": "stdout",
     "output_type": "stream",
     "text": [
      "Test Accuracy is:  67.01\n"
     ]
    }
   ],
   "source": [
    "rnnAccuracy = round(accCount_rnn/len(y_pred_rnn) * 100, 2)\n",
    "print(\"Test Accuracy is: \", rnnAccuracy)"
   ]
  },
  {
   "cell_type": "markdown",
   "metadata": {},
   "source": [
    "# Running HAN Model by loading saved weights"
   ]
  },
  {
   "cell_type": "code",
   "execution_count": 72,
   "metadata": {},
   "outputs": [],
   "source": [
    "from keras.models import model_from_json"
   ]
  },
  {
   "cell_type": "code",
   "execution_count": 73,
   "metadata": {},
   "outputs": [
    {
     "name": "stdout",
     "output_type": "stream",
     "text": [
      "Hierachical LSTM\n",
      "Loaded model from disk\n"
     ]
    }
   ],
   "source": [
    "json_file = open('hanModel.json', 'r')\n",
    "loaded_model_json = json_file.read()\n",
    "json_file.close()\n",
    "loaded_han_model = getHAN()\n",
    "# load weights into new model\n",
    "loaded_han_model.load_weights(\"hanModel.h5\")\n",
    "print(\"Loaded model from disk\")"
   ]
  },
  {
   "cell_type": "code",
   "execution_count": 74,
   "metadata": {},
   "outputs": [
    {
     "name": "stdout",
     "output_type": "stream",
     "text": [
      "63352/63352 [==============================] - 68s 1ms/step\n"
     ]
    }
   ],
   "source": [
    "loadedHanModel_pred = loaded_han_model.predict(X_test_han, batch_size=None, verbose=True)"
   ]
  },
  {
   "cell_type": "code",
   "execution_count": 75,
   "metadata": {},
   "outputs": [],
   "source": [
    "temp = np.zeros((len(loadedHanModel_pred), len(loadedHanModel_pred[0])))\n",
    "count = 0\n",
    "for y in loadedHanModel_pred:\n",
    "  idx = np.argmax(y)\n",
    "  temp[count][idx] = 1\n",
    "  count += 1"
   ]
  },
  {
   "cell_type": "code",
   "execution_count": 76,
   "metadata": {},
   "outputs": [],
   "source": [
    "accCount_han = 0\n",
    "for i in range(0, len(y_test_han)):\n",
    "  if np.array_equal(temp[i], y_test_han[i]):\n",
    "      accCount_han += 1"
   ]
  },
  {
   "cell_type": "code",
   "execution_count": 77,
   "metadata": {},
   "outputs": [
    {
     "name": "stdout",
     "output_type": "stream",
     "text": [
      "Test Accuracy is:  74.05\n"
     ]
    }
   ],
   "source": [
    "hanAccuracy = round(accCount_han/len(y_pred_han) * 100, 2)\n",
    "print(\"Test Accuracy is: \", hanAccuracy)"
   ]
  }
 ],
 "metadata": {
  "colab": {
   "collapsed_sections": [],
   "name": "Copy of Capstone_ADBI_part2.ipynb",
   "provenance": [],
   "version": "0.3.2"
  },
  "kernelspec": {
   "display_name": "Python 3",
   "language": "python",
   "name": "python3"
  },
  "language_info": {
   "codemirror_mode": {
    "name": "ipython",
    "version": 3
   },
   "file_extension": ".py",
   "mimetype": "text/x-python",
   "name": "python",
   "nbconvert_exporter": "python",
   "pygments_lexer": "ipython3",
   "version": "3.6.7"
  }
 },
 "nbformat": 4,
 "nbformat_minor": 1
}
